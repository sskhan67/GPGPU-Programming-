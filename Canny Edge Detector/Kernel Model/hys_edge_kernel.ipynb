{
 "cells": [
  {
   "cell_type": "markdown",
   "metadata": {},
   "source": [
    "# Hys + Edge"
   ]
  },
  {
   "cell_type": "code",
   "execution_count": 16,
   "metadata": {},
   "outputs": [],
   "source": [
    "# read csv file \n",
    "dataset <- read.csv (\"hys_edge.csv\", na.strings=\"\",stringsAsFactors=FALSE)"
   ]
  },
  {
   "cell_type": "code",
   "execution_count": 6,
   "metadata": {},
   "outputs": [
    {
     "data": {
      "text/html": [
       "<table>\n",
       "<thead><tr><th scope=col>IMAGE</th><th scope=col>FLOPS</th><th scope=col>BYTE</th><th scope=col>BLOCK_SIZE</th><th scope=col>KERNEL_T</th></tr></thead>\n",
       "<tbody>\n",
       "\t<tr><td>256    </td><td>0      </td><td> 262144</td><td> 8     </td><td>0.076  </td></tr>\n",
       "\t<tr><td>256    </td><td>0      </td><td> 262144</td><td>16     </td><td>0.139  </td></tr>\n",
       "\t<tr><td>256    </td><td>0      </td><td> 262144</td><td>32     </td><td>0.153  </td></tr>\n",
       "\t<tr><td>512    </td><td>0      </td><td>1048576</td><td> 8     </td><td>0.248  </td></tr>\n",
       "\t<tr><td>512    </td><td>0      </td><td>1048576</td><td>16     </td><td>0.524  </td></tr>\n",
       "\t<tr><td>512    </td><td>0      </td><td>1048576</td><td>32     </td><td>0.882  </td></tr>\n",
       "</tbody>\n",
       "</table>\n"
      ],
      "text/latex": [
       "\\begin{tabular}{r|lllll}\n",
       " IMAGE & FLOPS & BYTE & BLOCK\\_SIZE & KERNEL\\_T\\\\\n",
       "\\hline\n",
       "\t 256     & 0       &  262144 &  8      & 0.076  \\\\\n",
       "\t 256     & 0       &  262144 & 16      & 0.139  \\\\\n",
       "\t 256     & 0       &  262144 & 32      & 0.153  \\\\\n",
       "\t 512     & 0       & 1048576 &  8      & 0.248  \\\\\n",
       "\t 512     & 0       & 1048576 & 16      & 0.524  \\\\\n",
       "\t 512     & 0       & 1048576 & 32      & 0.882  \\\\\n",
       "\\end{tabular}\n"
      ],
      "text/markdown": [
       "\n",
       "IMAGE | FLOPS | BYTE | BLOCK_SIZE | KERNEL_T | \n",
       "|---|---|---|---|---|---|\n",
       "| 256     | 0       |  262144 |  8      | 0.076   | \n",
       "| 256     | 0       |  262144 | 16      | 0.139   | \n",
       "| 256     | 0       |  262144 | 32      | 0.153   | \n",
       "| 512     | 0       | 1048576 |  8      | 0.248   | \n",
       "| 512     | 0       | 1048576 | 16      | 0.524   | \n",
       "| 512     | 0       | 1048576 | 32      | 0.882   | \n",
       "\n",
       "\n"
      ],
      "text/plain": [
       "  IMAGE FLOPS BYTE    BLOCK_SIZE KERNEL_T\n",
       "1 256   0      262144  8         0.076   \n",
       "2 256   0      262144 16         0.139   \n",
       "3 256   0      262144 32         0.153   \n",
       "4 512   0     1048576  8         0.248   \n",
       "5 512   0     1048576 16         0.524   \n",
       "6 512   0     1048576 32         0.882   "
      ]
     },
     "metadata": {},
     "output_type": "display_data"
    }
   ],
   "source": [
    "head(dataset)"
   ]
  },
  {
   "cell_type": "code",
   "execution_count": 17,
   "metadata": {},
   "outputs": [
    {
     "data": {
      "text/plain": [
       "\n",
       "Call:\n",
       "lm(formula = KERNEL_T ~ FLOPS + BYTE, data = dataset)\n",
       "\n",
       "Residuals:\n",
       "   Min     1Q Median     3Q    Max \n",
       "-4.875 -4.204 -3.816 -2.187 37.391 \n",
       "\n",
       "Coefficients: (1 not defined because of singularities)\n",
       "             Estimate Std. Error t value Pr(>|t|)\n",
       "(Intercept) 4.263e+00  4.683e+00   0.910    0.384\n",
       "FLOPS              NA         NA      NA       NA\n",
       "BYTE        2.445e-07  5.405e-07   0.452    0.661\n",
       "\n",
       "Residual standard error: 12.42 on 10 degrees of freedom\n",
       "Multiple R-squared:  0.02005,\tAdjusted R-squared:  -0.07794 \n",
       "F-statistic: 0.2046 on 1 and 10 DF,  p-value: 0.6607\n"
      ]
     },
     "metadata": {},
     "output_type": "display_data"
    },
    {
     "name": "stderr",
     "output_type": "stream",
     "text": [
      "Warning message in predict.lm(model, newdata = new):\n",
      "“prediction from a rank-deficient fit may be misleading”"
     ]
    },
    {
     "name": "stdout",
     "output_type": "stream",
     "text": [
      "Hys+Edge Modeling. Image Size 3072x3072 and Predicted Kernel time (ms):  13.49226"
     ]
    }
   ],
   "source": [
    "model<-lm(KERNEL_T~FLOPS+BYTE,data=dataset)\n",
    "summary(model) # display summary \n",
    "\n",
    "new<-data.frame(FLOPS=0,BYTE=37748736) # predication value \n",
    "res<-predict(model,newdata=new) # predication result \n",
    "cat(\"Hys+Edge Modeling. Image Size 3072x3072 and Predicted Kernel time (ms): \",res)"
   ]
  },
  {
   "cell_type": "code",
   "execution_count": null,
   "metadata": {},
   "outputs": [],
   "source": []
  }
 ],
 "metadata": {
  "kernelspec": {
   "display_name": "R",
   "language": "R",
   "name": "ir"
  },
  "language_info": {
   "codemirror_mode": "r",
   "file_extension": ".r",
   "mimetype": "text/x-r-source",
   "name": "R",
   "pygments_lexer": "r",
   "version": "3.5.1"
  }
 },
 "nbformat": 4,
 "nbformat_minor": 2
}
