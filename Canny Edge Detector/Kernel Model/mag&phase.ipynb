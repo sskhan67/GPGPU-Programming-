{
 "cells": [
  {
   "cell_type": "markdown",
   "metadata": {},
   "source": [
    "# Mag & Phase kernel"
   ]
  },
  {
   "cell_type": "code",
   "execution_count": 9,
   "metadata": {},
   "outputs": [],
   "source": [
    "# read csv file \n",
    "dataset <- read.csv (\"mag_phase.csv\", na.strings=\"\",stringsAsFactors=FALSE)"
   ]
  },
  {
   "cell_type": "code",
   "execution_count": 10,
   "metadata": {},
   "outputs": [
    {
     "data": {
      "text/html": [
       "<table>\n",
       "<thead><tr><th scope=col>IMAGE</th><th scope=col>FLOPS</th><th scope=col>BYTE</th><th scope=col>BLOCK_SIZE</th><th scope=col>KERNEL_T</th></tr></thead>\n",
       "<tbody>\n",
       "\t<tr><td>256    </td><td> 327680</td><td> 393216</td><td> 8     </td><td>1.124  </td></tr>\n",
       "\t<tr><td>256    </td><td> 327680</td><td> 393216</td><td>16     </td><td>0.984  </td></tr>\n",
       "\t<tr><td>256    </td><td> 327680</td><td> 393216</td><td>32     </td><td>0.790  </td></tr>\n",
       "\t<tr><td>512    </td><td>1310720</td><td>1572864</td><td> 8     </td><td>2.971  </td></tr>\n",
       "\t<tr><td>512    </td><td>1310720</td><td>1572864</td><td>16     </td><td>3.398  </td></tr>\n",
       "\t<tr><td>512    </td><td>1310720</td><td>1572864</td><td>32     </td><td>3.198  </td></tr>\n",
       "</tbody>\n",
       "</table>\n"
      ],
      "text/latex": [
       "\\begin{tabular}{r|lllll}\n",
       " IMAGE & FLOPS & BYTE & BLOCK\\_SIZE & KERNEL\\_T\\\\\n",
       "\\hline\n",
       "\t 256     &  327680 &  393216 &  8      & 1.124  \\\\\n",
       "\t 256     &  327680 &  393216 & 16      & 0.984  \\\\\n",
       "\t 256     &  327680 &  393216 & 32      & 0.790  \\\\\n",
       "\t 512     & 1310720 & 1572864 &  8      & 2.971  \\\\\n",
       "\t 512     & 1310720 & 1572864 & 16      & 3.398  \\\\\n",
       "\t 512     & 1310720 & 1572864 & 32      & 3.198  \\\\\n",
       "\\end{tabular}\n"
      ],
      "text/markdown": [
       "\n",
       "IMAGE | FLOPS | BYTE | BLOCK_SIZE | KERNEL_T | \n",
       "|---|---|---|---|---|---|\n",
       "| 256     |  327680 |  393216 |  8      | 1.124   | \n",
       "| 256     |  327680 |  393216 | 16      | 0.984   | \n",
       "| 256     |  327680 |  393216 | 32      | 0.790   | \n",
       "| 512     | 1310720 | 1572864 |  8      | 2.971   | \n",
       "| 512     | 1310720 | 1572864 | 16      | 3.398   | \n",
       "| 512     | 1310720 | 1572864 | 32      | 3.198   | \n",
       "\n",
       "\n"
      ],
      "text/plain": [
       "  IMAGE FLOPS   BYTE    BLOCK_SIZE KERNEL_T\n",
       "1 256    327680  393216  8         1.124   \n",
       "2 256    327680  393216 16         0.984   \n",
       "3 256    327680  393216 32         0.790   \n",
       "4 512   1310720 1572864  8         2.971   \n",
       "5 512   1310720 1572864 16         3.398   \n",
       "6 512   1310720 1572864 32         3.198   "
      ]
     },
     "metadata": {},
     "output_type": "display_data"
    }
   ],
   "source": [
    "head(dataset)"
   ]
  },
  {
   "cell_type": "code",
   "execution_count": 24,
   "metadata": {},
   "outputs": [
    {
     "data": {
      "text/plain": [
       "\n",
       "Call:\n",
       "lm(formula = KERNEL_T ~ FLOPS + BYTE, data = dataset)\n",
       "\n",
       "Residuals:\n",
       "    Min      1Q  Median      3Q     Max \n",
       "-8.0243 -0.7899  0.0063  0.2901 15.8807 \n",
       "\n",
       "Coefficients:\n",
       "             Estimate Std. Error t value Pr(>|t|)\n",
       "(Intercept) 1.244e-01  3.219e+00   0.039    0.970\n",
       "FLOPS       1.207e-06  2.351e-05   0.051    0.960\n",
       "BYTE        9.885e-07  1.876e-05   0.053    0.959\n",
       "\n",
       "Residual standard error: 6.56 on 9 degrees of freedom\n",
       "Multiple R-squared:  0.9212,\tAdjusted R-squared:  0.9036 \n",
       "F-statistic: 52.58 on 2 and 9 DF,  p-value: 1.084e-05\n"
      ]
     },
     "metadata": {},
     "output_type": "display_data"
    },
    {
     "name": "stdout",
     "output_type": "stream",
     "text": [
      "Mag & Phase Kernel Modeling. Image Size 3072x3072 and Predicted Kernel time (ms):  294.7545"
     ]
    }
   ],
   "source": [
    "model<-lm(KERNEL_T~FLOPS+BYTE,data=dataset)\n",
    "summary(model) # display summary \n",
    "\n",
    "new<-data.frame(FLOPS=134217728.000000,BYTE=134217728.000000) # predication value \n",
    "res<-predict(model,newdata=new) # predication result \n",
    "cat(\"Mag & Phase Kernel Modeling. Image Size 3072x3072 and Predicted Kernel time (ms): \",res)\n"
   ]
  },
  {
   "cell_type": "code",
   "execution_count": null,
   "metadata": {},
   "outputs": [],
   "source": []
  },
  {
   "cell_type": "code",
   "execution_count": null,
   "metadata": {},
   "outputs": [],
   "source": []
  }
 ],
 "metadata": {
  "kernelspec": {
   "display_name": "R",
   "language": "R",
   "name": "ir"
  },
  "language_info": {
   "codemirror_mode": "r",
   "file_extension": ".r",
   "mimetype": "text/x-r-source",
   "name": "R",
   "pygments_lexer": "r",
   "version": "3.5.1"
  }
 },
 "nbformat": 4,
 "nbformat_minor": 2
}
