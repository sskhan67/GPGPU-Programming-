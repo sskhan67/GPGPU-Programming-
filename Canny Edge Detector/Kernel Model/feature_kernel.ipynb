{
 "cells": [
  {
   "cell_type": "markdown",
   "metadata": {},
   "source": [
    "# Feature Detection Kernel "
   ]
  },
  {
   "cell_type": "code",
   "execution_count": 37,
   "metadata": {},
   "outputs": [],
   "source": [
    "# read csv file \n",
    "dataset <- read.csv (\"feature.csv\", na.strings=\"\",stringsAsFactors=FALSE)"
   ]
  },
  {
   "cell_type": "code",
   "execution_count": 11,
   "metadata": {},
   "outputs": [
    {
     "data": {
      "text/html": [
       "<table>\n",
       "<thead><tr><th scope=col>IMAGE</th><th scope=col>FLOPS</th><th scope=col>BYTE</th><th scope=col>BLOCK_SIZE</th><th scope=col>KERNEL_T</th></tr></thead>\n",
       "<tbody>\n",
       "\t<tr><td>256     </td><td> 3162436</td><td>13990374</td><td> 8      </td><td>0.016   </td></tr>\n",
       "\t<tr><td>256     </td><td> 1641796</td><td>13990374</td><td>16      </td><td>0.019   </td></tr>\n",
       "\t<tr><td>256     </td><td>  819268</td><td>13990374</td><td>32      </td><td>0.017   </td></tr>\n",
       "\t<tr><td>512     </td><td>12869956</td><td>56291816</td><td> 8      </td><td>0.026   </td></tr>\n",
       "\t<tr><td>512     </td><td> 6787396</td><td>56291816</td><td>16      </td><td>0.065   </td></tr>\n",
       "\t<tr><td>512     </td><td> 3497284</td><td>56291816</td><td>32      </td><td>0.026   </td></tr>\n",
       "</tbody>\n",
       "</table>\n"
      ],
      "text/latex": [
       "\\begin{tabular}{r|lllll}\n",
       " IMAGE & FLOPS & BYTE & BLOCK\\_SIZE & KERNEL\\_T\\\\\n",
       "\\hline\n",
       "\t 256      &  3162436 & 13990374 &  8       & 0.016   \\\\\n",
       "\t 256      &  1641796 & 13990374 & 16       & 0.019   \\\\\n",
       "\t 256      &   819268 & 13990374 & 32       & 0.017   \\\\\n",
       "\t 512      & 12869956 & 56291816 &  8       & 0.026   \\\\\n",
       "\t 512      &  6787396 & 56291816 & 16       & 0.065   \\\\\n",
       "\t 512      &  3497284 & 56291816 & 32       & 0.026   \\\\\n",
       "\\end{tabular}\n"
      ],
      "text/markdown": [
       "\n",
       "IMAGE | FLOPS | BYTE | BLOCK_SIZE | KERNEL_T | \n",
       "|---|---|---|---|---|---|\n",
       "| 256      |  3162436 | 13990374 |  8       | 0.016    | \n",
       "| 256      |  1641796 | 13990374 | 16       | 0.019    | \n",
       "| 256      |   819268 | 13990374 | 32       | 0.017    | \n",
       "| 512      | 12869956 | 56291816 |  8       | 0.026    | \n",
       "| 512      |  6787396 | 56291816 | 16       | 0.065    | \n",
       "| 512      |  3497284 | 56291816 | 32       | 0.026    | \n",
       "\n",
       "\n"
      ],
      "text/plain": [
       "  IMAGE FLOPS    BYTE     BLOCK_SIZE KERNEL_T\n",
       "1 256    3162436 13990374  8         0.016   \n",
       "2 256    1641796 13990374 16         0.019   \n",
       "3 256     819268 13990374 32         0.017   \n",
       "4 512   12869956 56291816  8         0.026   \n",
       "5 512    6787396 56291816 16         0.065   \n",
       "6 512    3497284 56291816 32         0.026   "
      ]
     },
     "metadata": {},
     "output_type": "display_data"
    }
   ],
   "source": [
    "head(dataset)"
   ]
  },
  {
   "cell_type": "code",
   "execution_count": 38,
   "metadata": {},
   "outputs": [
    {
     "data": {
      "text/plain": [
       "\n",
       "Call:\n",
       "lm(formula = KERNEL_T ~ FLOPS + BYTE, data = dataset)\n",
       "\n",
       "Residuals:\n",
       "      Min        1Q    Median        3Q       Max \n",
       "-0.011762 -0.009086 -0.001639 -0.000280  0.037279 \n",
       "\n",
       "Coefficients:\n",
       "              Estimate Std. Error t value Pr(>|t|)    \n",
       "(Intercept)  2.789e-02  5.546e-03   5.029 0.000711 ***\n",
       "FLOPS       -5.862e-11  1.289e-10  -0.455 0.660025    \n",
       "BYTE         4.052e-12  2.199e-11   0.184 0.857905    \n",
       "---\n",
       "Signif. codes:  0 ‘***’ 0.001 ‘**’ 0.01 ‘*’ 0.05 ‘.’ 0.1 ‘ ’ 1\n",
       "\n",
       "Residual standard error: 0.01465 on 9 degrees of freedom\n",
       "Multiple R-squared:  0.03521,\tAdjusted R-squared:  -0.1792 \n",
       "F-statistic: 0.1642 on 2 and 9 DF,  p-value: 0.851\n"
      ]
     },
     "metadata": {},
     "output_type": "display_data"
    },
    {
     "name": "stdout",
     "output_type": "stream",
     "text": [
      "[1] \"Image Size 3072x3072\"\n",
      "           1 \n",
      "-0.001566604 \n"
     ]
    }
   ],
   "source": [
    "model<-lm(KERNEL_T~FLOPS+BYTE,data=dataset)\n",
    "summary(model) # display summary \n",
    "\n",
    "new<-data.frame(FLOPS=799406464.000000,BYTE=4294967296.000000) # predication value \n",
    "res<-predict(model,newdata=new) # predication result \n",
    "print(\"Image Size 3072x3072\")\n",
    "print (res)"
   ]
  },
  {
   "cell_type": "code",
   "execution_count": null,
   "metadata": {},
   "outputs": [],
   "source": []
  }
 ],
 "metadata": {
  "kernelspec": {
   "display_name": "R",
   "language": "R",
   "name": "ir"
  },
  "language_info": {
   "codemirror_mode": "r",
   "file_extension": ".r",
   "mimetype": "text/x-r-source",
   "name": "R",
   "pygments_lexer": "r",
   "version": "3.5.1"
  }
 },
 "nbformat": 4,
 "nbformat_minor": 2
}
