{
 "cells": [
  {
   "cell_type": "markdown",
   "metadata": {},
   "source": [
    "# Suppresion kernel\n"
   ]
  },
  {
   "cell_type": "code",
   "execution_count": 1,
   "metadata": {},
   "outputs": [],
   "source": [
    "# read csv file \n",
    "dataset <- read.csv (\"supression.csv\", na.strings=\"\",stringsAsFactors=FALSE)"
   ]
  },
  {
   "cell_type": "code",
   "execution_count": 2,
   "metadata": {},
   "outputs": [
    {
     "data": {
      "text/html": [
       "<table>\n",
       "<thead><tr><th scope=col>IMAGE</th><th scope=col>FLOPS</th><th scope=col>BYTE</th><th scope=col>BLOCK_SIZE</th><th scope=col>KERNEL_T</th></tr></thead>\n",
       "<tbody>\n",
       "\t<tr><td>256    </td><td>0      </td><td> 393216</td><td> 8     </td><td>1.061  </td></tr>\n",
       "\t<tr><td>256    </td><td>0      </td><td> 393216</td><td>16     </td><td>0.954  </td></tr>\n",
       "\t<tr><td>256    </td><td>0      </td><td> 393216</td><td>32     </td><td>0.756  </td></tr>\n",
       "\t<tr><td>512    </td><td>0      </td><td>1572864</td><td> 8     </td><td>2.990  </td></tr>\n",
       "\t<tr><td>512    </td><td>0      </td><td>1572864</td><td>16     </td><td>3.255  </td></tr>\n",
       "\t<tr><td>512    </td><td>0      </td><td>1572864</td><td>32     </td><td>3.170  </td></tr>\n",
       "</tbody>\n",
       "</table>\n"
      ],
      "text/latex": [
       "\\begin{tabular}{r|lllll}\n",
       " IMAGE & FLOPS & BYTE & BLOCK\\_SIZE & KERNEL\\_T\\\\\n",
       "\\hline\n",
       "\t 256     & 0       &  393216 &  8      & 1.061  \\\\\n",
       "\t 256     & 0       &  393216 & 16      & 0.954  \\\\\n",
       "\t 256     & 0       &  393216 & 32      & 0.756  \\\\\n",
       "\t 512     & 0       & 1572864 &  8      & 2.990  \\\\\n",
       "\t 512     & 0       & 1572864 & 16      & 3.255  \\\\\n",
       "\t 512     & 0       & 1572864 & 32      & 3.170  \\\\\n",
       "\\end{tabular}\n"
      ],
      "text/markdown": [
       "\n",
       "IMAGE | FLOPS | BYTE | BLOCK_SIZE | KERNEL_T | \n",
       "|---|---|---|---|---|---|\n",
       "| 256     | 0       |  393216 |  8      | 1.061   | \n",
       "| 256     | 0       |  393216 | 16      | 0.954   | \n",
       "| 256     | 0       |  393216 | 32      | 0.756   | \n",
       "| 512     | 0       | 1572864 |  8      | 2.990   | \n",
       "| 512     | 0       | 1572864 | 16      | 3.255   | \n",
       "| 512     | 0       | 1572864 | 32      | 3.170   | \n",
       "\n",
       "\n"
      ],
      "text/plain": [
       "  IMAGE FLOPS BYTE    BLOCK_SIZE KERNEL_T\n",
       "1 256   0      393216  8         1.061   \n",
       "2 256   0      393216 16         0.954   \n",
       "3 256   0      393216 32         0.756   \n",
       "4 512   0     1572864  8         2.990   \n",
       "5 512   0     1572864 16         3.255   \n",
       "6 512   0     1572864 32         3.170   "
      ]
     },
     "metadata": {},
     "output_type": "display_data"
    }
   ],
   "source": [
    "head(dataset)"
   ]
  },
  {
   "cell_type": "code",
   "execution_count": 13,
   "metadata": {},
   "outputs": [
    {
     "data": {
      "text/plain": [
       "\n",
       "Call:\n",
       "lm(formula = KERNEL_T ~ FLOPS + BYTE, data = dataset)\n",
       "\n",
       "Residuals:\n",
       "    Min      1Q  Median      3Q     Max \n",
       "-6.2669 -0.2168 -0.0806  0.3133  6.2391 \n",
       "\n",
       "Coefficients: (1 not defined because of singularities)\n",
       "             Estimate Std. Error t value Pr(>|t|)    \n",
       "(Intercept) 3.947e-01  1.082e+00   0.365    0.723    \n",
       "FLOPS              NA         NA      NA       NA    \n",
       "BYTE        1.763e-06  8.323e-08  21.187 1.22e-09 ***\n",
       "---\n",
       "Signif. codes:  0 ‘***’ 0.001 ‘**’ 0.01 ‘*’ 0.05 ‘.’ 0.1 ‘ ’ 1\n",
       "\n",
       "Residual standard error: 2.87 on 10 degrees of freedom\n",
       "Multiple R-squared:  0.9782,\tAdjusted R-squared:  0.976 \n",
       "F-statistic: 448.9 on 1 and 10 DF,  p-value: 1.22e-09\n"
      ]
     },
     "metadata": {},
     "output_type": "display_data"
    },
    {
     "name": "stderr",
     "output_type": "stream",
     "text": [
      "Warning message in predict.lm(model, newdata = new):\n",
      "“prediction from a rank-deficient fit may be misleading”"
     ]
    },
    {
     "name": "stdout",
     "output_type": "stream",
     "text": [
      "Suppression Modeling. Image Size 3072x3072 and Predicted Kernel time (ms):  100.2479"
     ]
    }
   ],
   "source": [
    "model<-lm(KERNEL_T~FLOPS+BYTE,data=dataset)\n",
    "summary(model) # display summary \n",
    "\n",
    "new<-data.frame(FLOPS=0,BYTE=56623104) # predication value \n",
    "res<-predict(model,newdata=new) # predication result \n",
    "cat(\"Suppression Modeling. Image Size 3072x3072 and Predicted Kernel time (ms): \",res)"
   ]
  },
  {
   "cell_type": "code",
   "execution_count": null,
   "metadata": {},
   "outputs": [],
   "source": []
  }
 ],
 "metadata": {
  "kernelspec": {
   "display_name": "R",
   "language": "R",
   "name": "ir"
  },
  "language_info": {
   "codemirror_mode": "r",
   "file_extension": ".r",
   "mimetype": "text/x-r-source",
   "name": "R",
   "pygments_lexer": "r",
   "version": "3.5.1"
  }
 },
 "nbformat": 4,
 "nbformat_minor": 2
}
